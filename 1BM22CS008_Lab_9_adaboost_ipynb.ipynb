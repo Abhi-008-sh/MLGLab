{
  "nbformat": 4,
  "nbformat_minor": 0,
  "metadata": {
    "colab": {
      "provenance": [],
      "authorship_tag": "ABX9TyOgs1PWDIcuZ2ep4cXsSJyk",
      "include_colab_link": true
    },
    "kernelspec": {
      "name": "python3",
      "display_name": "Python 3"
    },
    "language_info": {
      "name": "python"
    }
  },
  "cells": [
    {
      "cell_type": "markdown",
      "metadata": {
        "id": "view-in-github",
        "colab_type": "text"
      },
      "source": [
        "<a href=\"https://colab.research.google.com/github/Abhi-008-sh/MLGLab/blob/main/1BM22CS008_Lab_9_adaboost_ipynb.ipynb\" target=\"_parent\"><img src=\"https://colab.research.google.com/assets/colab-badge.svg\" alt=\"Open In Colab\"/></a>"
      ]
    },
    {
      "cell_type": "code",
      "execution_count": 1,
      "metadata": {
        "colab": {
          "base_uri": "https://localhost:8080/",
          "height": 904
        },
        "id": "bE9IG7v0rwHH",
        "outputId": "a030a1dd-622e-4b92-e21f-bcd0e0c9af89"
      },
      "outputs": [
        {
          "output_type": "stream",
          "name": "stdout",
          "text": [
            "   age workclass  fnlwgt     education  education.num marital.status  \\\n",
            "0   90         ?   77053       HS-grad              9        Widowed   \n",
            "1   82   Private  132870       HS-grad              9        Widowed   \n",
            "2   66         ?  186061  Some-college             10        Widowed   \n",
            "3   54   Private  140359       7th-8th              4       Divorced   \n",
            "4   41   Private  264663  Some-college             10      Separated   \n",
            "\n",
            "          occupation   relationship   race     sex  capital.gain  \\\n",
            "0                  ?  Not-in-family  White  Female             0   \n",
            "1    Exec-managerial  Not-in-family  White  Female             0   \n",
            "2                  ?      Unmarried  Black  Female             0   \n",
            "3  Machine-op-inspct      Unmarried  White  Female             0   \n",
            "4     Prof-specialty      Own-child  White  Female             0   \n",
            "\n",
            "   capital.loss  hours.per.week native.country income  \n",
            "0          4356              40  United-States  <=50K  \n",
            "1          4356              18  United-States  <=50K  \n",
            "2          4356              40  United-States  <=50K  \n",
            "3          3900              40  United-States  <=50K  \n",
            "4          3900              40  United-States  <=50K  \n",
            "Accuracy Score: 0.8480\n",
            "Confusion Matrix:\n",
            "[[4740  236]\n",
            " [ 754  783]]\n"
          ]
        },
        {
          "output_type": "display_data",
          "data": {
            "text/plain": [
              "<Figure size 600x500 with 2 Axes>"
            ],
            "image/png": "[encoded data removed]"
          },
          "metadata": {}
        }
      ],
      "source": [
        "import pandas as pd\n",
        "from sklearn.model_selection import train_test_split\n",
        "from sklearn.ensemble import AdaBoostClassifier\n",
        "from sklearn.tree import DecisionTreeClassifier\n",
        "from sklearn.preprocessing import LabelEncoder\n",
        "from sklearn.metrics import accuracy_score, confusion_matrix\n",
        "import matplotlib.pyplot as plt\n",
        "import seaborn as sns\n",
        "\n",
        "# Load the dataset\n",
        "# url = \"https://www.kaggle.com/datasets/uciml/adult-census-income\"\n",
        "df = pd.read_csv('/content/income.csv')\n",
        "\n",
        "# Show the first few rows of the dataset\n",
        "print(df.head())\n",
        "\n",
        "# Preprocess the data\n",
        "# Handling missing values: Drop rows with missing values\n",
        "df.dropna(inplace=True)\n",
        "\n",
        "# Encoding categorical features using LabelEncoder\n",
        "categorical_columns = df.select_dtypes(include=['object']).columns\n",
        "label_encoders = {}\n",
        "\n",
        "for column in categorical_columns:\n",
        "    le = LabelEncoder()\n",
        "    df[column] = le.fit_transform(df[column])\n",
        "    label_encoders[column] = le\n",
        "\n",
        "# Define features (X) and target (y)\n",
        "X = df.drop('income', axis=1)  # Drop the target column\n",
        "y = df['income']  # Target column\n",
        "\n",
        "# Split the dataset into training (80%) and testing (20%) sets\n",
        "X_train, X_test, y_train, y_test = train_test_split(X, y, test_size=0.2, random_state=42)\n",
        "\n",
        "# Train an AdaBoost model using a decision tree as the base estimator\n",
        "base_estimator = DecisionTreeClassifier(max_depth=1)  # Using a simple decision stump\n",
        "ada_boost_model = AdaBoostClassifier(\n",
        "    estimator=base_estimator, n_estimators=50, random_state=42)\n",
        "\n",
        "# Fit the model on the training data\n",
        "ada_boost_model.fit(X_train, y_train)\n",
        "\n",
        "# Make predictions on the test set\n",
        "y_pred = ada_boost_model.predict(X_test)\n",
        "\n",
        "# Evaluate the model\n",
        "accuracy = accuracy_score(y_test, y_pred)\n",
        "conf_matrix = confusion_matrix(y_test, y_pred)\n",
        "\n",
        "# Display accuracy score\n",
        "print(f\"Accuracy Score: {accuracy:.4f}\")\n",
        "\n",
        "# Display confusion matrix\n",
        "print(\"Confusion Matrix:\")\n",
        "print(conf_matrix)\n",
        "\n",
        "# Plot confusion matrix using Seaborn heatmap\n",
        "plt.figure(figsize=(6, 5))\n",
        "sns.heatmap(conf_matrix, annot=True, fmt='d', cmap='Blues', xticklabels=['Predicted No', 'Predicted Yes'], yticklabels=['Actual No', 'Actual Yes'])\n",
        "plt.title('Confusion Matrix')\n",
        "plt.xlabel('Predicted')\n",
        "plt.ylabel('Actual')\n",
        "plt.show()"
      ]
    },
    {
      "cell_type": "code",
      "source": [
        "import numpy as np\n",
        "import pandas as pd\n",
        "import matplotlib.pyplot as plt\n",
        "from sklearn.datasets import load_iris\n",
        "from sklearn.ensemble import AdaBoostClassifier\n",
        "from sklearn.tree import DecisionTreeClassifier\n",
        "from sklearn.linear_model import LogisticRegression\n",
        "from sklearn.model_selection import train_test_split\n",
        "from sklearn.metrics import accuracy_score\n",
        "\n",
        "# Load Iris dataset\n",
        "iris = load_iris()\n",
        "X = iris.data\n",
        "y = iris.target\n",
        "\n",
        "# Split data into training (80%) and test (20%)\n",
        "X_train, X_test, y_train, y_test = train_test_split(X, y, test_size=0.2, random_state=42)\n",
        "\n",
        "# --- Try different base classifiers and parameters ---\n",
        "results = []\n",
        "\n",
        "# Parameters to experiment with\n",
        "n_estimators_list = [10, 50, 100]\n",
        "learning_rates = [0.01, 0.1, 1]\n",
        "\n",
        "# DecisionTreeClassifier as base estimator\n",
        "for n in n_estimators_list:\n",
        "    for lr in learning_rates:\n",
        "        tree_base = DecisionTreeClassifier(max_depth=1)\n",
        "        model = AdaBoostClassifier(estimator=tree_base, n_estimators=n, learning_rate=lr, random_state=42)\n",
        "        model.fit(X_train, y_train)\n",
        "        y_pred = model.predict(X_test)\n",
        "        acc = accuracy_score(y_test, y_pred)\n",
        "        results.append({\n",
        "            'Base': 'DecisionTree',\n",
        "            'n_estimators': n,\n",
        "            'learning_rate': lr,\n",
        "            'Accuracy': acc\n",
        "        })\n",
        "\n",
        "# LogisticRegression as base estimator\n",
        "for n in n_estimators_list:\n",
        "    for lr in learning_rates:\n",
        "        log_reg_base = LogisticRegression(max_iter=1000)\n",
        "        model = AdaBoostClassifier(estimator=log_reg_base, n_estimators=n, learning_rate=lr, random_state=42)\n",
        "        model.fit(X_train, y_train)\n",
        "        y_pred = model.predict(X_test)\n",
        "        acc = accuracy_score(y_test, y_pred)\n",
        "        results.append({\n",
        "            'Base': 'LogisticRegression',\n",
        "            'n_estimators': n,\n",
        "            'learning_rate': lr,\n",
        "            'Accuracy': acc\n",
        "        })\n",
        "\n",
        "# Convert results to DataFrame for easy viewing\n",
        "results_df = pd.DataFrame(results)\n",
        "print(results_df)\n",
        "\n",
        "# Optional: Visualize the result\n",
        "import seaborn as sns\n",
        "plt.figure(figsize=(12, 6))\n",
        "sns.barplot(x='n_estimators', y='Accuracy', hue='Base', data=results_df, ci=None)\n",
        "plt.title('AdaBoost Accuracy with Different Estimators and n_estimators')\n",
        "plt.show()"
      ],
      "metadata": {
        "colab": {
          "base_uri": "https://localhost:8080/"
        },
        "id": "s8ouCCW7sDpJ",
        "outputId": "141a1e3c-ce95-447a-d304-da86b6d554e2"
      },
      "execution_count": null,
      "outputs": [
        {
          "output_type": "stream",
          "name": "stdout",
          "text": [
            "Accuracy: 0.8659217877094972\n",
            "Confusion Matrix:\n",
            "[[ 26   0  17]\n",
            " [  0  12   5]\n",
            " [  2   0 117]]\n"
          ]
        }
      ]
    }
  ]
}